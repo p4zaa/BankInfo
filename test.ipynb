{
 "cells": [
  {
   "cell_type": "code",
   "execution_count": 22,
   "metadata": {},
   "outputs": [],
   "source": [
    "from BankInfo import utils\n",
    "from pathlib import Path"
   ]
  },
  {
   "cell_type": "code",
   "execution_count": 2,
   "metadata": {},
   "outputs": [],
   "source": [
    "#utils.banks"
   ]
  },
  {
   "cell_type": "code",
   "execution_count": 3,
   "metadata": {},
   "outputs": [],
   "source": [
    "#from BankInfo import banks_info"
   ]
  },
  {
   "cell_type": "code",
   "execution_count": 4,
   "metadata": {},
   "outputs": [
    {
     "data": {
      "text/plain": [
       "{'code': '002',\n",
       " 'color': '#1e4598',\n",
       " 'official_name': 'BANGKOK BANK PUBLIC COMPANY LTD.',\n",
       " 'nice_name': 'Bangkok Bank',\n",
       " 'swift_code': 'BKKBTHBK'}"
      ]
     },
     "execution_count": 4,
     "metadata": {},
     "output_type": "execute_result"
    }
   ],
   "source": [
    "utils.get_bank_info('th', 'bbl')"
   ]
  },
  {
   "cell_type": "code",
   "execution_count": 5,
   "metadata": {},
   "outputs": [
    {
     "name": "stdout",
     "output_type": "stream",
     "text": [
      "Defaulting to user installation because normal site-packages is not writeable\n",
      "Requirement already satisfied: svgwrite in /Users/pa/Library/Python/3.9/lib/python/site-packages (1.4.3)\n",
      "Requirement already satisfied: cairosvg in /Users/pa/Library/Python/3.9/lib/python/site-packages (2.7.1)\n",
      "Requirement already satisfied: defusedxml in /Users/pa/Library/Python/3.9/lib/python/site-packages (from cairosvg) (0.7.1)\n",
      "Requirement already satisfied: cairocffi in /Users/pa/Library/Python/3.9/lib/python/site-packages (from cairosvg) (1.7.1)\n",
      "Requirement already satisfied: pillow in /Users/pa/Library/Python/3.9/lib/python/site-packages (from cairosvg) (10.4.0)\n",
      "Requirement already satisfied: cssselect2 in /Users/pa/Library/Python/3.9/lib/python/site-packages (from cairosvg) (0.7.0)\n",
      "Requirement already satisfied: tinycss2 in /Users/pa/Library/Python/3.9/lib/python/site-packages (from cairosvg) (1.3.0)\n",
      "Requirement already satisfied: cffi>=1.1.0 in /Users/pa/Library/Python/3.9/lib/python/site-packages (from cairocffi->cairosvg) (1.17.0)\n",
      "Requirement already satisfied: pycparser in /Users/pa/Library/Python/3.9/lib/python/site-packages (from cffi>=1.1.0->cairocffi->cairosvg) (2.22)\n",
      "Requirement already satisfied: webencodings in /Users/pa/Library/Python/3.9/lib/python/site-packages (from cssselect2->cairosvg) (0.5.1)\n",
      "\u001b[33mWARNING: You are using pip version 21.2.4; however, version 24.2 is available.\n",
      "You should consider upgrading via the '/Library/Developer/CommandLineTools/usr/bin/python3 -m pip install --upgrade pip' command.\u001b[0m\n",
      "Note: you may need to restart the kernel to use updated packages.\n"
     ]
    }
   ],
   "source": [
    "pip install svgwrite"
   ]
  },
  {
   "cell_type": "code",
   "execution_count": 29,
   "metadata": {},
   "outputs": [],
   "source": [
    "def get_file_paths(path: str, file_type: str='.csv') -> list:\n",
    "\t  \"\"\"\n",
    "\t  Returns a list of all .file_type files in the specified folder path.\n",
    "\t  \"\"\"\n",
    "\t  folder_path = Path(path)\n",
    "\t  file_paths = [file_path for file_path in folder_path.glob(f'*{file_type}')]\n",
    "\t  return file_paths"
   ]
  },
  {
   "cell_type": "code",
   "execution_count": 30,
   "metadata": {},
   "outputs": [],
   "source": [
    "svg_paths = get_file_paths('/Users/pa/Documents/GitHub Repository Clone/BankInfo/assets/svg/th', '.svg')"
   ]
  },
  {
   "cell_type": "code",
   "execution_count": 33,
   "metadata": {},
   "outputs": [],
   "source": [
    "p = svg_paths[0]"
   ]
  },
  {
   "cell_type": "code",
   "execution_count": 38,
   "metadata": {},
   "outputs": [
    {
     "data": {
      "text/plain": [
       "'.svg'"
      ]
     },
     "execution_count": 38,
     "metadata": {},
     "output_type": "execute_result"
    }
   ],
   "source": [
    "p.suffix"
   ]
  },
  {
   "cell_type": "code",
   "execution_count": 39,
   "metadata": {},
   "outputs": [
    {
     "data": {
      "text/plain": [
       "'jpm'"
      ]
     },
     "execution_count": 39,
     "metadata": {},
     "output_type": "execute_result"
    }
   ],
   "source": [
    "p.stem"
   ]
  },
  {
   "cell_type": "code",
   "execution_count": 67,
   "metadata": {},
   "outputs": [],
   "source": [
    "import subprocess\n",
    "from PIL import Image\n",
    "import svgwrite\n",
    "\n",
    "def create_svg_with_background(svg_logo_path, output_svg_path, output_png_path=None, background_size=(200, 200), background_color=\"lightblue\", border_radius=20, padding=20):\n",
    "    # Calculate the size of the inner area for the SVG logo after padding\n",
    "    inner_size = (background_size[0] - 2 * padding, background_size[1] - 2 * padding)\n",
    "    \n",
    "    # Create a new SVG drawing with the original background size\n",
    "    dwg = svgwrite.Drawing(output_svg_path, size=background_size)\n",
    "    \n",
    "    # Draw the rounded rectangle (background)\n",
    "    dwg.add(dwg.rect(\n",
    "        insert=(0, 0),\n",
    "        size=background_size,\n",
    "        rx=border_radius, \n",
    "        ry=border_radius,\n",
    "        fill=background_color\n",
    "    ))\n",
    "    \n",
    "    # Load the existing logo and add it on top of the background, respecting the padding\n",
    "    logo_insert = (padding, padding)\n",
    "    dwg.add(dwg.image(href=svg_logo_path, insert=logo_insert, size=inner_size))\n",
    "    \n",
    "    # Save the resulting SVG\n",
    "    dwg.save()\n",
    "\n",
    "    # Convert the SVG to PNG if requested\n",
    "    if output_png_path:\n",
    "        subprocess.run(['rsvg-convert', '-o', output_png_path, output_svg_path])\n",
    "        \n",
    "        # Optionally, open the PNG to ensure it's saved correctly\n",
    "        img = Image.open(output_png_path)\n",
    "        img.show()\n",
    "\n",
    "# Usage\n",
    "create_svg_with_background(\n",
    "    svg_logo_path=\"/Users/pa/Documents/GitHub Repository Clone/BankInfo/assets/svg/th/bay.svg\",  # Path to your existing logo SVG\n",
    "    output_svg_path=\"output_logo_with_background.svg\",  # Output SVG path\n",
    "    output_png_path=\"output_logo_with_background.png\",  # Output PNG path\n",
    "    background_size=(200, 200),  # Background size (width, height)\n",
    "    background_color=\"black\",  # Background color\n",
    "    border_radius=100,  # Border radius for rounded corners\n",
    "    padding=20  # Padding around the background\n",
    ")\n"
   ]
  },
  {
   "cell_type": "code",
   "execution_count": 68,
   "metadata": {},
   "outputs": [],
   "source": [
    "# Generate banks logo with associated color\n",
    "svg_paths = get_file_paths('/Users/pa/Documents/GitHub Repository Clone/BankInfo/assets/svg/th', '.svg')\n",
    "png_path = '/Users/pa/Documents/GitHub Repository Clone/BankInfo/assets/png/th/circle'\n",
    "\n",
    "for path in svg_paths:\n",
    "    create_svg_with_background(\n",
    "        svg_logo_path=str(path),  # Path to your existing logo SVG\n",
    "        output_svg_path=\"output_logo_with_background.svg\",  # Output SVG path\n",
    "        output_png_path=f\"{png_path}/{path.stem}.png\",  # Output PNG path\n",
    "        background_size=(200, 200),  # Background size (width, height)\n",
    "        background_color=utils.get_bank_info('th', path.stem, 'color'),  # Background color\n",
    "        border_radius=100,  # Border radius for rounded corners\n",
    "        padding=20  # Padding around the background\n",
    "    )"
   ]
  }
 ],
 "metadata": {
  "kernelspec": {
   "display_name": "Python 3",
   "language": "python",
   "name": "python3"
  },
  "language_info": {
   "codemirror_mode": {
    "name": "ipython",
    "version": 3
   },
   "file_extension": ".py",
   "mimetype": "text/x-python",
   "name": "python",
   "nbconvert_exporter": "python",
   "pygments_lexer": "ipython3",
   "version": "3.9.6"
  }
 },
 "nbformat": 4,
 "nbformat_minor": 2
}
